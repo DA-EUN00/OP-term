{
 "cells": [
  {
   "cell_type": "code",
   "execution_count": 1,
   "metadata": {},
   "outputs": [],
   "source": [
    "def Allergy_(list1):\n",
    "    allergy=[]\n",
    "    ingredient=' '\n",
    "    for temp in list1:\n",
    "        if '난류' in temp and '난류' not in ingredient:\n",
    "            ingredient += '난류 '\n",
    "        if '우유' in temp and '우유' not in ingredient:\n",
    "            ingredient += '우유 '\n",
    "        if '메밀' in temp and '메밀' not in ingredient:\n",
    "            ingredient += '메밀 '\n",
    "        if '땅콩' in temp and '땅콩' not in ingredient:\n",
    "            ingredient +='땅콩 '\n",
    "        if '대두' in temp and '대두' not in ingredient:\n",
    "            ingredient += '대두 '\n",
    "        if '밀' in temp and '밀' not in ingredient:\n",
    "            ingredient += '밀 '\n",
    "        if '고등어' in temp and  '고등어' not in ingredient:\n",
    "            ingredientt += '고등어 '\n",
    "        if '게' in temp and '게' not in ingredient:\n",
    "            ingredient += '게 '\n",
    "        if '새우' in temp and '새우' not in ingredient:\n",
    "            ingredient += '새우 '\n",
    "        if '돼지고기' in temp and '돼지고기' not in ingredient:\n",
    "            ingredient += '돼지고기 '\n",
    "        if '복숭아' in temp and '복숭아' not in ingredient:\n",
    "            ingredient += '복숭아 '\n",
    "        if '토마토' in temp and '토마토' not in ingredient:\n",
    "            ingredient += '토마토 '\n",
    "        if '아황산류' in temp and '아황산류' not in ingredient:\n",
    "            ingredient += '아황산류 '\n",
    "        if '호두' in temp and '호두' not in ingredient:\n",
    "            ingredient += '호두 '\n",
    "        if ('닭고기' in temp or '닭' in temp)and '닭고기' not in ingredient:\n",
    "            ingredient += '닭고기 '\n",
    "        if '쇠고기' in temp and '쇠고기' not in ingredient:\n",
    "            ingredient += '쇠고기 '\n",
    "        if '오징어' in temp and '오징어' not in ingredient:\n",
    "            ingredient += '오징어 '\n",
    "        if '조개류' in temp and '조개류' not in ingredient:\n",
    "            ingredient += '조개류 '\n",
    "        allergy.append(ingredient)\n",
    "        ingredient=' '\n",
    "    return allergy"
   ]
  },
  {
   "cell_type": "code",
   "execution_count": 2,
   "metadata": {},
   "outputs": [],
   "source": [
    "#미스터피자\n",
    "from bs4 import BeautifulSoup\n",
    "import requests\n",
    "import re\n",
    "store = 'Mrpizza'\n",
    "url = 'http://www.mrpizza.co.kr/menu/premium'\n",
    "\n",
    "req = requests.get(url)\n",
    "html = req.text\n",
    "soup = BeautifulSoup(html, 'html.parser') \n",
    "nw_list = soup.select('table.tbl_style.line > tbody')\n",
    "title=[]\n",
    "for nw in nw_list:   \n",
    "    title.append(nw.text)\n",
    "test=[]\n",
    "test=title[0].split(\"\\n\")\n",
    "i=0\n",
    "while(i != len(test)):\n",
    "    if test[i] =='':\n",
    "        del test[i]\n",
    "    else:\n",
    "        i+=1\n",
    "# 미스터피자\n",
    "store_name1=['Mrpizza']\n",
    "name1=[]\n",
    "ingredient1=[]\n",
    "i=0\n",
    "for temp in test:\n",
    "    if ')' in temp or '\\r' in temp:\n",
    "        if temp == '하프치킨 (오븐치킨 반마리)':\n",
    "            name1.append(temp)\n",
    "        elif temp == 'JMT치킨버거허브닭다리살(브라질산)':\n",
    "            name1.append('JMT치킨버거')\n",
    "            ingredient1.append('허브닭다리살(브라질산)')\n",
    "        elif temp == '풀드포크바비큐 풀드포크 : 돼지고기(미국산)':\n",
    "            name1.append('풀드포크')\n",
    "            ingredient1.append('바비큐 풀드포크 : 돼지고기(미국산)')\n",
    "        elif temp == '올댓미트풀드포크 : 돼지고기(미국산) 스파이시치킨 : 닭고기(국내산,외국산) 소불고기: 소고기(호주산)':\n",
    "            name1.append('올댓미트')\n",
    "            ingredient1.append('풀드포크 : 돼지고기(미국산) 스파이시치킨 : 닭고기(국내산,외국산) 소불고기: 소고기(호주산)')      \n",
    "        elif '\\r' in temp:\n",
    "            temp1=temp\n",
    "        elif '\\t' in temp:\n",
    "            temp1=temp1+\" \"+temp\n",
    "            ingredient1.append(temp1)\n",
    "        else:\n",
    "            ingredient1.append(temp)\n",
    "    else:\n",
    "        name1.append(temp)\n",
    "ingredient1=Allergy_(ingredient1)\n",
    "for i  in range(len(name1)-1):\n",
    "    store_name1.append('Mrpizza')"
   ]
  },
  {
   "cell_type": "code",
   "execution_count": 3,
   "metadata": {},
   "outputs": [],
   "source": [
    "#파파존스\n",
    "from bs4 import BeautifulSoup\n",
    "import requests\n",
    "import re\n",
    "\n",
    "url = 'https://pji.co.kr/menu/menuList.jsp?cl_cd=1'\n",
    "\n",
    "req = requests.get(url)\n",
    "html = req.text\n",
    "soup = BeautifulSoup(html, 'html.parser') \n",
    "nw_list = soup.select('table.table.tbl_line > tbody')\n",
    "\n",
    "title=[]\n",
    "for nw in nw_list:   \n",
    "    title.append(nw.text)\n",
    "\n",
    "test = '\\n'\n",
    "for i in range(2,len(title)):\n",
    "    test= test +' '+ title[i]\n",
    "set0=[]\n",
    "set0=(test.split(\"\\n\"))\n",
    "i=0\n",
    "while(i != len(set0)):\n",
    "    if set0[i] =='' or set0[i] == ' ':\n",
    "        del set0[i]\n",
    "    else:\n",
    "        i+=1\n",
    "del set0[-1]\n",
    "\n",
    "store_name2=[\"papa_john's\"]\n",
    "name2=[]\n",
    "ingredient2=[]\n",
    "make = str.maketrans(')',' ')\n",
    "for temp in set0:\n",
    "    temp1=temp.split('(')\n",
    "    name2.append(temp1[0])\n",
    "    temp2= ''.join(temp1[1:])\n",
    "    temp2 = temp2.translate(make)\n",
    "    ingredient2.append(temp2)\n",
    "i=0\n",
    "for temp in name2:\n",
    "    same=['이탈리안 미트볼', '베이컨', '비프 스테이크', '이탈리안 소시지', '그릴드 치킨', '핫 치킨', \\\n",
    "          '비프', '페퍼로니', '불고기', '치킨스트립', '치킨 윙/스틱', '햄']\n",
    "    if temp == '맥앤치즈 베이컨 피자베이컨 ': \n",
    "        name2[i] = '맥앤치즈 베이컨 피자 '\n",
    "    elif temp == '핫 치킨 바베큐핫 치킨 ': \n",
    "        name2[i] = '핫 치킨 바베큐'  \n",
    "    elif temp == '프리미엄 직화 불고기불고기 ': \n",
    "        name2[i] = '프리미엄 직화 불고기'\n",
    "    elif temp == '베이컨 치즈스틱베이컨 ': \n",
    "        name2[i] = '베이컨 치즈스틱 '\n",
    "    elif temp == '페퍼로니페퍼로니 ': \n",
    "        name2[i] = '페퍼로니'\n",
    "    else:\n",
    "        for j in range(len(same)):\n",
    "            if same[j] in temp:\n",
    "                name2[i] = temp.replace(same[j], '')\n",
    "                break\n",
    "    i+=1\n",
    "name2[-1] = name2[-1] +'(핫치킨)'\n",
    "name2[-2] = name2[-2] +'(불고기)'\n",
    "name2[-4] = name2[-4] +'(로제)'\n",
    "name2[-5] = name2[-5] +'(화이트)'\n",
    "name2[-6] = name2[-6] +'(미트)'\n",
    "\n",
    "ingredient2=Allergy_(ingredient2)\n",
    "for i  in range(len(name2)-1):\n",
    "    store_name2.append(\"papa_john's\")"
   ]
  },
  {
   "cell_type": "code",
   "execution_count": 4,
   "metadata": {},
   "outputs": [],
   "source": [
    "#도미노 피자\n",
    "from bs4 import BeautifulSoup\n",
    "import requests\n",
    "import re\n",
    "\n",
    "url = 'https://web.dominos.co.kr/contents/ingredient#allergy2'\n",
    "\n",
    "req = requests.get(url)\n",
    "html = req.text\n",
    "soup = BeautifulSoup(html, 'html.parser') \n",
    "nw_list = soup.select('div.table-type.v2')\n",
    "\n",
    "title=[]\n",
    "for nw in nw_list:   \n",
    "    title.append(nw.text)\n",
    "test = '\\n'\n",
    "for i in range(2,len(title)):\n",
    "    test= test +' '+ title[i]\n",
    "set0=[]\n",
    "set0=(test.split(\"\\n\"))\n",
    "i=0\n",
    "while(i != len(set0)):\n",
    "    if set0[i] =='' or set0[i] == ' ':\n",
    "        del set0[i]\n",
    "    else:\n",
    "        i+=1\n",
    "del set0[-1]\n",
    "set0= set0[set0.index('알레르기 유발성분 표기')+1:]\n",
    "set1= set0[:set0.index('사이드디시 재료중 알레르기 유발 가능 식품')]+ set0[set0.index('사이드디시')+2:set0.index('제품명')]\n",
    "\n",
    "name3=[]\n",
    "ingredient3=[]\n",
    "i=0 \n",
    "for temp in set1:\n",
    "    if(i==0):\n",
    "        name3.append(temp)\n",
    "        i=1\n",
    "    else:\n",
    "        ingredient3.append(temp)\n",
    "        i=0\n",
    "store_name3=[]\n",
    "for i in range(len(name3)):\n",
    "    store_name3.append(\"domino_pizza\")\n",
    "    \n",
    "ingredient3 =Allergy_(ingredient3)"
   ]
  },
  {
   "cell_type": "code",
   "execution_count": 5,
   "metadata": {},
   "outputs": [],
   "source": [
    "store_name = store_name1 + store_name2 + store_name3\n",
    "name = name1 + name2 + name3\n",
    "ingredient = ingredient1 + ingredient2 + ingredient3"
   ]
  },
  {
   "cell_type": "code",
   "execution_count": 6,
   "metadata": {},
   "outputs": [],
   "source": [
    "pork=[]\n",
    "beef=[]\n",
    "chiken=[]\n",
    "pbc_count=[]\n",
    "\n",
    "i=0\n",
    "for temp in ingredient:\n",
    "    if \"돼지고기\" in temp:\n",
    "        pork.append(\"o\")\n",
    "        i+=1\n",
    "    else:\n",
    "        pork.append(\"x\")\n",
    "    if \"쇠고기\" in temp:\n",
    "        beef.append(\"o\")\n",
    "        i+=1\n",
    "    else:\n",
    "        beef.append(\"x\")\n",
    "    if \"닭고기\" in temp:\n",
    "        chiken.append(\"o\")\n",
    "        i+=1\n",
    "    else:\n",
    "        chiken.append(\"x\")\n",
    "    pbc_count.append(i)\n",
    "    i=0"
   ]
  },
  {
   "cell_type": "code",
   "execution_count": 7,
   "metadata": {},
   "outputs": [
    {
     "name": "stdout",
     "output_type": "stream",
     "text": [
      "       store name                          name  \\\n",
      "0         Mrpizza                         햄벅한새우   \n",
      "1         Mrpizza                        미스터트리오   \n",
      "2         Mrpizza                         아모르파티   \n",
      "3         Mrpizza                     아모르파티 쉬림프   \n",
      "4         Mrpizza                       씨푸드아일랜드   \n",
      "..            ...                           ...   \n",
      "97   domino_pizza  하프&하프 스파게티 (NEW 치즈 & 화이트 크림)   \n",
      "98   domino_pizza                   화이트 크림 스파게티   \n",
      "99   domino_pizza                      프레시 코울슬로   \n",
      "100  domino_pizza                      프레시 콘샐러드   \n",
      "101  domino_pizza              NEW 치즈 볼로네즈 스파게티   \n",
      "\n",
      "                           ingredient  pbc_count pork beef chiken  \n",
      "0                           돼지고기 쇠고기           2    o    o      x  \n",
      "1                           돼지고기 쇠고기           2    o    o      x  \n",
      "2                           돼지고기 쇠고기           2    o    o      x  \n",
      "3                           돼지고기 쇠고기           2    o    o      x  \n",
      "4                           돼지고기 쇠고기           2    o    o      x  \n",
      "..                                ...        ...  ...  ...    ...  \n",
      "97    우유 대두 밀 게 돼지고기 토마토 닭고기 쇠고기 조개류           3    o    o      o  \n",
      "98            우유 대두 밀 게 돼지고기 닭고기 조개류           2    o    x      o  \n",
      "99                                대두           0    x    x      x  \n",
      "100                               대두           0    x    x      x  \n",
      "101            우유 대두 밀 게 토마토 쇠고기 조개류           1    x    o      x  \n",
      "\n",
      "[102 rows x 7 columns]\n"
     ]
    }
   ],
   "source": [
    "import pandas as pd\n",
    "import matplotlib as mpl\n",
    "df = pd.DataFrame({'store name': store_name, 'name': name, 'ingredient': ingredient,'pbc_count':pbc_count,'pork': pork, 'beef': beef, 'chiken': chiken}, \\\n",
    "                  columns=['store name','name', 'ingredient', 'pbc_count', 'pork', 'beef', 'chiken'])\n",
    "print(df)"
   ]
  },
  {
   "cell_type": "code",
   "execution_count": 8,
   "metadata": {},
   "outputs": [],
   "source": [
    "df.to_csv('../Assignment2_dataset.csv', encoding=\"euc-kr\")"
   ]
  },
  {
   "cell_type": "code",
   "execution_count": 9,
   "metadata": {},
   "outputs": [
    {
     "name": "stdout",
     "output_type": "stream",
     "text": [
      "가게별 돼지고기, 소고기, 닭고기 포함 메뉴\n",
      "평균\n",
      "store name\n",
      "Mrpizza         1.540541\n",
      "domino_pizza    2.054054\n",
      "papa_john's     1.392857\n",
      "Name: pbc_count, dtype: float64\n",
      "\n",
      "최솟값\n",
      "store name\n",
      "Mrpizza         1\n",
      "domino_pizza    0\n",
      "papa_john's     1\n",
      "Name: pbc_count, dtype: int64\n",
      "\n",
      "최댓값\n",
      "store name\n",
      "Mrpizza         2\n",
      "domino_pizza    3\n",
      "papa_john's     2\n",
      "Name: pbc_count, dtype: int64\n",
      "\n",
      "중앙값\n",
      "store name\n",
      "Mrpizza         2\n",
      "domino_pizza    2\n",
      "papa_john's     1\n",
      "Name: pbc_count, dtype: int64\n",
      "\n",
      "가게별 메뉴 개수\n",
      "store name\n",
      "Mrpizza         37\n",
      "domino_pizza    37\n",
      "papa_john's     28\n",
      "Name: name, dtype: int64\n",
      "<class 'pandas.core.frame.DataFrame'>\n"
     ]
    }
   ],
   "source": [
    "print(\"가게별 돼지고기, 소고기, 닭고기 포함 메뉴\")\n",
    "print(\"평균\")\n",
    "print(df.groupby('store name')['pbc_count'].mean(),end='\\n\\n')\n",
    "print(\"최솟값\")\n",
    "print(df.groupby('store name')['pbc_count'].min(),end='\\n\\n')\n",
    "print(\"최댓값\")\n",
    "print(df.groupby('store name')['pbc_count'].max(),end='\\n\\n')\n",
    "print(\"중앙값\")\n",
    "print(df.groupby('store name')['pbc_count'].median(),end='\\n\\n')\n",
    "print(\"가게별 메뉴 개수\")\n",
    "print(df.groupby('store name')['name'].nunique())\n",
    "print(type(df))"
   ]
  },
  {
   "cell_type": "code",
   "execution_count": 10,
   "metadata": {},
   "outputs": [
    {
     "data": {
      "text/plain": [
       "Text(0, 0.5, 'menu')"
      ]
     },
     "execution_count": 10,
     "metadata": {},
     "output_type": "execute_result"
    },
    {
     "data": {
      "image/png": "[encoded data removed]",
      "text/plain": [
       "<Figure size 432x288 with 1 Axes>"
      ]
     },
     "metadata": {
      "needs_background": "light"
     },
     "output_type": "display_data"
    }
   ],
   "source": [
    "import matplotlib.pyplot as plt\n",
    "\n",
    "fig =plt.figure()\n",
    "axes1 = fig.add_subplot(1,1,1)\n",
    "axes1.hist(df['store name'], bins=5)\n",
    "axes1.set_title('Number of menu')\n",
    "axes1.set_xlabel('store')\n",
    "axes1.set_ylabel('menu')"
   ]
  },
  {
   "cell_type": "code",
   "execution_count": 11,
   "metadata": {},
   "outputs": [
    {
     "name": "stdout",
     "output_type": "stream",
     "text": [
      "pbc_count : Number of pigs, cows, and chickens in one menu\n"
     ]
    },
    {
     "data": {
      "image/png": "[encoded data removed]",
      "text/plain": [
       "<Figure size 432x288 with 1 Axes>"
      ]
     },
     "metadata": {
      "needs_background": "light"
     },
     "output_type": "display_data"
    }
   ],
   "source": [
    "boxplot =plt.figure()\n",
    "axes1 = boxplot.add_subplot(1,1,1)\n",
    "axes1.boxplot([df[df['store name'] == 'Mrpizza']['pbc_count'],\n",
    "              df[df['store name'] == 'domino_pizza']['pbc_count'],\n",
    "              df[df['store name'] == \"papa_john's\"]['pbc_count']],\n",
    "              labels= ['Mrpizza','domino_pizza',\"papa_john's\"])\n",
    "axes1.set_title('Number of pbc_count by store')\n",
    "axes1.set_xlabel('store name')\n",
    "axes1.set_ylabel('pbc_count')\n",
    "print('pbc_count : Number of pigs, cows, and chickens in one menu')"
   ]
  },
  {
   "cell_type": "code",
   "execution_count": 12,
   "metadata": {},
   "outputs": [
    {
     "data": {
      "text/plain": [
       "Text(0, 0.5, 'Number')"
      ]
     },
     "execution_count": 12,
     "metadata": {},
     "output_type": "execute_result"
    },
    {
     "data": {
      "image/png": "[encoded data removed]",
      "text/plain": [
       "<Figure size 432x288 with 4 Axes>"
      ]
     },
     "metadata": {
      "needs_background": "light"
     },
     "output_type": "display_data"
    }
   ],
   "source": [
    "fig =plt.figure()\n",
    "axes1=fig.add_subplot(2,2,1)\n",
    "axes2=fig.add_subplot(2,2,2)\n",
    "axes3=fig.add_subplot(2,2,3)\n",
    "axes4=fig.add_subplot(2,2,4)\n",
    "\n",
    "axes1.hist(df['pork'], bins=3)\n",
    "axes1.set_title('Number of menus containing pigs')\n",
    "axes1.set_xlabel('pork')\n",
    "axes1.set_ylabel('Number')\n",
    "axes2.hist(df['beef'], bins=3)\n",
    "axes2.set_title('Number of menus containing beefs')\n",
    "axes2.set_xlabel('beef')\n",
    "axes2.set_ylabel('Number')\n",
    "axes3.hist(df['chiken'], bins=3)\n",
    "axes3.set_title('Number of menus containing chikens')\n",
    "axes3.set_xlabel('chiken')\n",
    "axes3.set_ylabel('Number')"
   ]
  },
  {
   "cell_type": "code",
   "execution_count": 13,
   "metadata": {},
   "outputs": [
    {
     "data": {
      "text/plain": [
       "Text(0, 0.5, 'Number')"
      ]
     },
     "execution_count": 13,
     "metadata": {},
     "output_type": "execute_result"
    },
    {
     "data": {
      "image/png": "[encoded data removed]",
      "text/plain": [
       "<Figure size 432x288 with 5 Axes>"
      ]
     },
     "metadata": {
      "needs_background": "light"
     },
     "output_type": "display_data"
    }
   ],
   "source": [
    "#미스터피자만 뽑아내기\n",
    "ax= df['store name']=='Mrpizza'\n",
    "df1=df[ax]\n",
    "\n",
    "fig =plt.figure()\n",
    "plt.title('Mrpizza', position=(0.5,1.0+0.05), fontsize=20)\n",
    "axes1=fig.add_subplot(2,2,1)\n",
    "axes2=fig.add_subplot(2,2,2)\n",
    "axes3=fig.add_subplot(2,2,3)\n",
    "axes4=fig.add_subplot(2,2,4)\n",
    "\n",
    "axes1.hist(df1['pork'], bins=3)\n",
    "axes1.set_title('pork')\n",
    "axes1.set_xlabel('pork')\n",
    "axes1.set_ylabel('Number')\n",
    "axes2.hist(df1['beef'], bins=3)\n",
    "axes2.set_title('beef')\n",
    "axes2.set_xlabel('beef')\n",
    "axes2.set_ylabel('Number')\n",
    "axes3.hist(df1['chiken'], bins=3)\n",
    "axes3.set_title('chiken')\n",
    "axes3.set_xlabel('chiken')\n",
    "axes3.set_ylabel('Number')\n"
   ]
  },
  {
   "cell_type": "code",
   "execution_count": 14,
   "metadata": {},
   "outputs": [
    {
     "data": {
      "text/plain": [
       "Text(0, 0.5, 'Number')"
      ]
     },
     "execution_count": 14,
     "metadata": {},
     "output_type": "execute_result"
    },
    {
     "data": {
      "image/png": "[encoded data removed]",
      "text/plain": [
       "<Figure size 432x288 with 5 Axes>"
      ]
     },
     "metadata": {
      "needs_background": "light"
     },
     "output_type": "display_data"
    }
   ],
   "source": [
    "#도미노피자만 뽑아내기\n",
    "ax2= df['store name']=='domino_pizza'\n",
    "df2=df[ax2]\n",
    "\n",
    "fig =plt.figure()\n",
    "plt.title('domino_pizza', position=(0.5,1.0+0.05), fontsize=20)\n",
    "axes1=fig.add_subplot(2,2,1)\n",
    "axes2=fig.add_subplot(2,2,2)\n",
    "axes3=fig.add_subplot(2,2,3)\n",
    "axes4=fig.add_subplot(2,2,4)\n",
    "\n",
    "axes1.hist(df2['pork'], bins=3)\n",
    "axes1.set_title('pork')\n",
    "axes1.set_xlabel('pork')\n",
    "axes1.set_ylabel('Number')\n",
    "axes2.hist(df2['beef'], bins=3)\n",
    "axes2.set_title('beef')\n",
    "axes2.set_xlabel('beef')\n",
    "axes2.set_ylabel('Number')\n",
    "axes3.hist(df2['chiken'], bins=3)\n",
    "axes3.set_title('chiken')\n",
    "axes3.set_xlabel('chiken')\n",
    "axes3.set_ylabel('Number')"
   ]
  },
  {
   "cell_type": "code",
   "execution_count": 15,
   "metadata": {},
   "outputs": [
    {
     "data": {
      "text/plain": [
       "Text(0, 0.5, 'Number')"
      ]
     },
     "execution_count": 15,
     "metadata": {},
     "output_type": "execute_result"
    },
    {
     "data": {
      "image/png": "[encoded data removed]",
      "text/plain": [
       "<Figure size 432x288 with 5 Axes>"
      ]
     },
     "metadata": {
      "needs_background": "light"
     },
     "output_type": "display_data"
    }
   ],
   "source": [
    "#파파존스만 뽑아내기\n",
    "ax3= df['store name']==\"papa_john's\"\n",
    "df3=df[ax3]\n",
    "\n",
    "fig =plt.figure()\n",
    "plt.title(\"papa_john's\", position=(0.5,1.0+0.05), fontsize=20)\n",
    "axes1=fig.add_subplot(2,2,1)\n",
    "axes2=fig.add_subplot(2,2,2)\n",
    "axes3=fig.add_subplot(2,2,3)\n",
    "axes4=fig.add_subplot(2,2,4)\n",
    "\n",
    "axes1.hist(df3['pork'], bins=3)\n",
    "axes1.set_title('pork')\n",
    "axes1.set_xlabel('pork')\n",
    "axes1.set_ylabel('Number')\n",
    "axes2.hist(df3['beef'], bins=3)\n",
    "axes2.set_title('beef')\n",
    "axes2.set_xlabel('beef')\n",
    "axes2.set_ylabel('Number')\n",
    "axes3.hist(df3['chiken'], bins=3)\n",
    "axes3.set_title('chiken')\n",
    "axes3.set_xlabel('chiken')\n",
    "axes3.set_ylabel('Number')"
   ]
  },
  {
   "cell_type": "code",
   "execution_count": 16,
   "metadata": {},
   "outputs": [
    {
     "data": {
      "text/plain": [
       "Text(0, 0.5, 'menu')"
      ]
     },
     "execution_count": 16,
     "metadata": {},
     "output_type": "execute_result"
    },
    {
     "data": {
      "image/png": "[encoded data removed]",
      "text/plain": [
       "<Figure size 432x288 with 5 Axes>"
      ]
     },
     "metadata": {
      "needs_background": "light"
     },
     "output_type": "display_data"
    }
   ],
   "source": [
    "fig =plt.figure()\n",
    "plt.title(\"all\", position=(0.5,1.0+0.05), fontsize=20)\n",
    "axes1=fig.add_subplot(2,2,1)\n",
    "axes2=fig.add_subplot(2,2,2)\n",
    "axes3=fig.add_subplot(2,2,3)\n",
    "axes4=fig.add_subplot(2,2,4)\n",
    "\n",
    "ax4= df['pork']==\"o\"\n",
    "df4=df[ax4]\n",
    "ax5= df['beef']==\"o\"\n",
    "df5=df[ax5]\n",
    "ax6= df['chiken']==\"o\"\n",
    "df6=df[ax6]\n",
    "\n",
    "axes1.hist(df4['store name'], bins=5)\n",
    "axes1.set_title('pork')\n",
    "axes1.set_xlabel('pork')\n",
    "axes1.set_ylabel('Number')\n",
    "\n",
    "axes2.hist(df5['store name'], bins=5)\n",
    "axes2.set_title('beef')\n",
    "axes2.set_xlabel('beef')\n",
    "axes2.set_ylabel('Number')\n",
    "\n",
    "axes3.hist(df6['store name'], bins=5)\n",
    "axes3.set_title('chiken')\n",
    "axes3.set_xlabel('chiken')\n",
    "axes3.set_ylabel('Number')\n",
    "\n",
    "axes4.hist(df['store name'], bins=5)\n",
    "axes4.set_title('Number of menu')\n",
    "axes4.set_xlabel('store')\n",
    "axes4.set_ylabel('menu')"
   ]
  }
 ],
 "metadata": {
  "kernelspec": {
   "display_name": "Python 3",
   "language": "python",
   "name": "python3"
  },
  "language_info": {
   "codemirror_mode": {
    "name": "ipython",
    "version": 3
   },
   "file_extension": ".py",
   "mimetype": "text/x-python",
   "name": "python",
   "nbconvert_exporter": "python",
   "pygments_lexer": "ipython3",
   "version": "3.8.3"
  }
 },
 "nbformat": 4,
 "nbformat_minor": 4
}
